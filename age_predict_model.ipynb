{
 "cells": [
  {
   "cell_type": "code",
   "execution_count": 1,
   "id": "50bbe1e9",
   "metadata": {
    "execution": {
     "iopub.execute_input": "2022-11-13T07:07:53.602153Z",
     "iopub.status.busy": "2022-11-13T07:07:53.601642Z",
     "iopub.status.idle": "2022-11-13T07:08:05.650804Z",
     "shell.execute_reply": "2022-11-13T07:08:05.649005Z"
    },
    "papermill": {
     "duration": 12.061898,
     "end_time": "2022-11-13T07:08:05.653158",
     "exception": false,
     "start_time": "2022-11-13T07:07:53.591260",
     "status": "completed"
    },
    "tags": []
   },
   "outputs": [
    {
     "name": "stdout",
     "output_type": "stream",
     "text": [
      "Collecting timm\r\n",
      "  Downloading timm-0.6.11-py3-none-any.whl (548 kB)\r\n",
      "\u001b[2K     \u001b[90m━━━━━━━━━━━━━━━━━━━━━━━━━━━━━━━━━━━━━━━\u001b[0m \u001b[32m548.7/548.7 kB\u001b[0m \u001b[31m5.3 MB/s\u001b[0m eta \u001b[36m0:00:00\u001b[0m\r\n",
      "\u001b[?25hRequirement already satisfied: pyyaml in /opt/conda/lib/python3.7/site-packages (from timm) (6.0)\r\n",
      "Requirement already satisfied: huggingface-hub in /opt/conda/lib/python3.7/site-packages (from timm) (0.10.1)\r\n",
      "Requirement already satisfied: torch>=1.7 in /opt/conda/lib/python3.7/site-packages (from timm) (1.11.0)\r\n",
      "Requirement already satisfied: torchvision in /opt/conda/lib/python3.7/site-packages (from timm) (0.12.0)\r\n",
      "Requirement already satisfied: typing-extensions in /opt/conda/lib/python3.7/site-packages (from torch>=1.7->timm) (4.1.1)\r\n",
      "Requirement already satisfied: tqdm in /opt/conda/lib/python3.7/site-packages (from huggingface-hub->timm) (4.64.0)\r\n",
      "Requirement already satisfied: requests in /opt/conda/lib/python3.7/site-packages (from huggingface-hub->timm) (2.28.1)\r\n",
      "Requirement already satisfied: importlib-metadata in /opt/conda/lib/python3.7/site-packages (from huggingface-hub->timm) (4.13.0)\r\n",
      "Requirement already satisfied: filelock in /opt/conda/lib/python3.7/site-packages (from huggingface-hub->timm) (3.7.1)\r\n",
      "Requirement already satisfied: packaging>=20.9 in /opt/conda/lib/python3.7/site-packages (from huggingface-hub->timm) (21.3)\r\n",
      "Requirement already satisfied: numpy in /opt/conda/lib/python3.7/site-packages (from torchvision->timm) (1.21.6)\r\n",
      "Requirement already satisfied: pillow!=8.3.*,>=5.3.0 in /opt/conda/lib/python3.7/site-packages (from torchvision->timm) (9.1.1)\r\n",
      "Requirement already satisfied: pyparsing!=3.0.5,>=2.0.2 in /opt/conda/lib/python3.7/site-packages (from packaging>=20.9->huggingface-hub->timm) (3.0.9)\r\n",
      "Requirement already satisfied: zipp>=0.5 in /opt/conda/lib/python3.7/site-packages (from importlib-metadata->huggingface-hub->timm) (3.8.0)\r\n",
      "Requirement already satisfied: idna<4,>=2.5 in /opt/conda/lib/python3.7/site-packages (from requests->huggingface-hub->timm) (3.3)\r\n",
      "Requirement already satisfied: charset-normalizer<3,>=2 in /opt/conda/lib/python3.7/site-packages (from requests->huggingface-hub->timm) (2.1.0)\r\n",
      "Requirement already satisfied: certifi>=2017.4.17 in /opt/conda/lib/python3.7/site-packages (from requests->huggingface-hub->timm) (2022.9.24)\r\n",
      "Requirement already satisfied: urllib3<1.27,>=1.21.1 in /opt/conda/lib/python3.7/site-packages (from requests->huggingface-hub->timm) (1.26.12)\r\n",
      "Installing collected packages: timm\r\n",
      "Successfully installed timm-0.6.11\r\n",
      "\u001b[33mWARNING: Running pip as the 'root' user can result in broken permissions and conflicting behaviour with the system package manager. It is recommended to use a virtual environment instead: https://pip.pypa.io/warnings/venv\u001b[0m\u001b[33m\r\n",
      "\u001b[0mNote: you may need to restart the kernel to use updated packages.\n"
     ]
    }
   ],
   "source": [
    "pip install timm"
   ]
  },
  {
   "cell_type": "code",
   "execution_count": 2,
   "id": "bcb6265c",
   "metadata": {
    "execution": {
     "iopub.execute_input": "2022-11-13T07:08:05.665919Z",
     "iopub.status.busy": "2022-11-13T07:08:05.665611Z",
     "iopub.status.idle": "2022-11-13T07:08:05.670405Z",
     "shell.execute_reply": "2022-11-13T07:08:05.669454Z"
    },
    "papermill": {
     "duration": 0.013627,
     "end_time": "2022-11-13T07:08:05.672683",
     "exception": false,
     "start_time": "2022-11-13T07:08:05.659056",
     "status": "completed"
    },
    "tags": []
   },
   "outputs": [],
   "source": [
    "BATCH_SIZE = 16\n",
    "DEVICE = 'cuda:0'\n",
    "EPOCHS = 10"
   ]
  },
  {
   "cell_type": "markdown",
   "id": "b3d267e5",
   "metadata": {
    "papermill": {
     "duration": 0.005145,
     "end_time": "2022-11-13T07:08:05.683211",
     "exception": false,
     "start_time": "2022-11-13T07:08:05.678066",
     "status": "completed"
    },
    "tags": []
   },
   "source": [
    "## IMPORTING LIBRARIES"
   ]
  },
  {
   "cell_type": "code",
   "execution_count": 3,
   "id": "3949d1ce",
   "metadata": {
    "execution": {
     "iopub.execute_input": "2022-11-13T07:08:05.695646Z",
     "iopub.status.busy": "2022-11-13T07:08:05.694812Z",
     "iopub.status.idle": "2022-11-13T07:08:11.436267Z",
     "shell.execute_reply": "2022-11-13T07:08:11.435173Z"
    },
    "papermill": {
     "duration": 5.750139,
     "end_time": "2022-11-13T07:08:11.438784",
     "exception": false,
     "start_time": "2022-11-13T07:08:05.688645",
     "status": "completed"
    },
    "tags": []
   },
   "outputs": [],
   "source": [
    "import numpy as np\n",
    "import pandas as pd\n",
    "import matplotlib.pyplot as plt\n",
    "\n",
    "import torch\n",
    "from torch import nn\n",
    "from torch.utils.data import Dataset, DataLoader\n",
    "\n",
    "import torchvision\n",
    "from torchvision import transforms\n",
    "\n",
    "import timm\n",
    "import os\n",
    "from tqdm import tqdm\n",
    "from PIL import Image\n",
    "import albumentations as A\n",
    "from sklearn.model_selection import train_test_split"
   ]
  },
  {
   "cell_type": "markdown",
   "id": "0f6e79cf",
   "metadata": {
    "papermill": {
     "duration": 0.00543,
     "end_time": "2022-11-13T07:08:11.450167",
     "exception": false,
     "start_time": "2022-11-13T07:08:11.444737",
     "status": "completed"
    },
    "tags": []
   },
   "source": [
    "## DATA LOADER CLASS"
   ]
  },
  {
   "cell_type": "code",
   "execution_count": 4,
   "id": "605d25dd",
   "metadata": {
    "execution": {
     "iopub.execute_input": "2022-11-13T07:08:11.463242Z",
     "iopub.status.busy": "2022-11-13T07:08:11.462496Z",
     "iopub.status.idle": "2022-11-13T07:08:11.477211Z",
     "shell.execute_reply": "2022-11-13T07:08:11.476261Z"
    },
    "papermill": {
     "duration": 0.023848,
     "end_time": "2022-11-13T07:08:11.479311",
     "exception": false,
     "start_time": "2022-11-13T07:08:11.455463",
     "status": "completed"
    },
    "tags": []
   },
   "outputs": [],
   "source": [
    "class LoadData(Dataset):\n",
    "    \n",
    "    def __init__(self, train = True):\n",
    "        super().__init__()\n",
    "        \n",
    "        x = sorted(os.listdir('../input/overnight-hackathon/Train_Images/Train_Images'))\n",
    "        \n",
    "        y = []\n",
    "        for i in range(len(x)):\n",
    "            y.append(x[i].split('_'))\n",
    "            y[i][4] = y[i][4].split('.')[0]\n",
    "        \n",
    "        ind = []\n",
    "        size = []\n",
    "        gender = []\n",
    "        age = []\n",
    "        \n",
    "        for i in range(len(x)):\n",
    "            \n",
    "            x[i] = '../input/overnight-hackathon/Train_Images/Train_Images/' + x[i]\n",
    "            ind.append(int(y[i][1]))\n",
    "            size.append(1 if y[i][2] == 'FI' else 0)\n",
    "            gender.append(1 if y[i][3] == 'M' else 0)\n",
    "            age.append(int(y[i][4]))\n",
    "            \n",
    "        collect = list(zip(x, age, ind, gender, size))\n",
    "        train_col, val_col = train_test_split(collect, shuffle = True, test_size=0.1, random_state=42)\n",
    "        \n",
    "        if train:\n",
    "            self.image_path = [x[0] for x in train_col]\n",
    "            self.age = [x[1] for x in train_col]\n",
    "            self.ind = [x[2] for x in train_col]\n",
    "            self.gender = [x[3] for x in train_col]\n",
    "            self.size = [x[4] for x in train_col]\n",
    "        \n",
    "        else:\n",
    "            self.image_path = [y[0] for y in val_col]\n",
    "            self.age = [y[1] for y in val_col]\n",
    "            self.ind = [y[2] for y in val_col]\n",
    "            self.gender = [y[3] for y in val_col]\n",
    "            self.size = [y[4] for y in val_col]\n",
    "\n",
    "        \n",
    "        self.transform = A.Compose([\n",
    "            A.Resize(256, 256),\n",
    "            A.HorizontalFlip(p = 0.5),\n",
    "            A.RandomBrightnessContrast(p=0.1),\n",
    "        ])\n",
    "                   \n",
    "    \n",
    "    def __getitem__(self, idx):\n",
    "        img = Image.open(self.image_path[idx])\n",
    "        age = self.age[idx]\n",
    "        ind = self.ind[idx]\n",
    "        gender = self.gender[idx]\n",
    "        size = self.size[idx]\n",
    "                   \n",
    "        img = np.array(img)            \n",
    "        img = self.transform(image = img)['image']             \n",
    "        img = (np.transpose(img, (2, 0, 1))) / 255              \n",
    "        img = torch.tensor(img)\n",
    "                \n",
    "        return img, age, ind, gender, size\n",
    "    \n",
    "    def __len__(self):\n",
    "        return len(self.image_path)"
   ]
  },
  {
   "cell_type": "code",
   "execution_count": 5,
   "id": "4e37fbfb",
   "metadata": {
    "execution": {
     "iopub.execute_input": "2022-11-13T07:08:11.491015Z",
     "iopub.status.busy": "2022-11-13T07:08:11.490725Z",
     "iopub.status.idle": "2022-11-13T07:08:12.057473Z",
     "shell.execute_reply": "2022-11-13T07:08:12.056453Z"
    },
    "papermill": {
     "duration": 0.575473,
     "end_time": "2022-11-13T07:08:12.060013",
     "exception": false,
     "start_time": "2022-11-13T07:08:11.484540",
     "status": "completed"
    },
    "tags": []
   },
   "outputs": [],
   "source": [
    "train_dataset = LoadData()\n",
    "valid_dataset = LoadData(train = False)"
   ]
  },
  {
   "cell_type": "code",
   "execution_count": 6,
   "id": "ad439c04",
   "metadata": {
    "execution": {
     "iopub.execute_input": "2022-11-13T07:08:12.073261Z",
     "iopub.status.busy": "2022-11-13T07:08:12.072873Z",
     "iopub.status.idle": "2022-11-13T07:08:12.078430Z",
     "shell.execute_reply": "2022-11-13T07:08:12.077280Z"
    },
    "papermill": {
     "duration": 0.014953,
     "end_time": "2022-11-13T07:08:12.080965",
     "exception": false,
     "start_time": "2022-11-13T07:08:12.066012",
     "status": "completed"
    },
    "tags": []
   },
   "outputs": [],
   "source": [
    "train_loader = DataLoader(\n",
    "        dataset=train_dataset,\n",
    "        batch_size=BATCH_SIZE,\n",
    "        shuffle=True,\n",
    "        num_workers = 2,\n",
    ")\n",
    "\n",
    "valid_loader = DataLoader(\n",
    "        dataset=valid_dataset,\n",
    "        batch_size=BATCH_SIZE,\n",
    "        shuffle=False,\n",
    "        num_workers = 2,\n",
    ")"
   ]
  },
  {
   "cell_type": "markdown",
   "id": "6b998738",
   "metadata": {
    "papermill": {
     "duration": 0.005399,
     "end_time": "2022-11-13T07:08:12.091757",
     "exception": false,
     "start_time": "2022-11-13T07:08:12.086358",
     "status": "completed"
    },
    "tags": []
   },
   "source": [
    "#### <b> MODEL ( USED EFFIECIENT NET AND ADDED FEATURES OF GENDER AND SIZE OF THE IMAGE TO THE SECOND LAST LAYER ) </b>"
   ]
  },
  {
   "cell_type": "code",
   "execution_count": 7,
   "id": "376342f3",
   "metadata": {
    "execution": {
     "iopub.execute_input": "2022-11-13T07:08:12.103637Z",
     "iopub.status.busy": "2022-11-13T07:08:12.103359Z",
     "iopub.status.idle": "2022-11-13T07:08:12.109956Z",
     "shell.execute_reply": "2022-11-13T07:08:12.108997Z"
    },
    "papermill": {
     "duration": 0.01485,
     "end_time": "2022-11-13T07:08:12.111902",
     "exception": false,
     "start_time": "2022-11-13T07:08:12.097052",
     "status": "completed"
    },
    "tags": []
   },
   "outputs": [],
   "source": [
    "class Model(nn.Module):\n",
    "    def __init__(self):\n",
    "        super(Model, self).__init__()\n",
    "        self.model = timm.create_model('tf_efficientnet_b4_ns', pretrained = True, num_classes = 0)\n",
    "        self.fc = nn.LazyLinear(1)\n",
    "        self.dropout = nn.Dropout(p = 0.3)\n",
    "\n",
    "    def forward(self, x, y, z):\n",
    "        x = self.model(x)               \n",
    "        x = self.dropout(x)\n",
    "        x = torch.cat([x, y, z], dim=1) \n",
    "        x = self.fc(x)                    \n",
    "        return x"
   ]
  },
  {
   "cell_type": "code",
   "execution_count": 8,
   "id": "0c59f96e",
   "metadata": {
    "execution": {
     "iopub.execute_input": "2022-11-13T07:08:12.125041Z",
     "iopub.status.busy": "2022-11-13T07:08:12.124252Z",
     "iopub.status.idle": "2022-11-13T07:08:18.265487Z",
     "shell.execute_reply": "2022-11-13T07:08:18.264469Z"
    },
    "papermill": {
     "duration": 6.149844,
     "end_time": "2022-11-13T07:08:18.268048",
     "exception": false,
     "start_time": "2022-11-13T07:08:12.118204",
     "status": "completed"
    },
    "tags": []
   },
   "outputs": [
    {
     "name": "stderr",
     "output_type": "stream",
     "text": [
      "Downloading: \"https://github.com/rwightman/pytorch-image-models/releases/download/v0.1-weights/tf_efficientnet_b4_ns-d6313a46.pth\" to /root/.cache/torch/hub/checkpoints/tf_efficientnet_b4_ns-d6313a46.pth\n",
      "/opt/conda/lib/python3.7/site-packages/torch/nn/modules/lazy.py:178: UserWarning: Lazy modules are a new feature under heavy development so changes to the API or functionality can happen at any moment.\n",
      "  warnings.warn('Lazy modules are a new feature under heavy development '\n"
     ]
    }
   ],
   "source": [
    "model = Model().cuda()\n",
    "criterion = nn.MSELoss()\n",
    "optimizer = torch.optim.Adam(model.parameters(), lr=.001)"
   ]
  },
  {
   "cell_type": "markdown",
   "id": "89d60f42",
   "metadata": {
    "papermill": {
     "duration": 0.005492,
     "end_time": "2022-11-13T07:08:18.279345",
     "exception": false,
     "start_time": "2022-11-13T07:08:18.273853",
     "status": "completed"
    },
    "tags": []
   },
   "source": [
    "## TRAIN FUNCTION"
   ]
  },
  {
   "cell_type": "code",
   "execution_count": 9,
   "id": "1509a82b",
   "metadata": {
    "execution": {
     "iopub.execute_input": "2022-11-13T07:08:18.292830Z",
     "iopub.status.busy": "2022-11-13T07:08:18.292476Z",
     "iopub.status.idle": "2022-11-13T07:08:18.301121Z",
     "shell.execute_reply": "2022-11-13T07:08:18.299386Z"
    },
    "papermill": {
     "duration": 0.017667,
     "end_time": "2022-11-13T07:08:18.303346",
     "exception": false,
     "start_time": "2022-11-13T07:08:18.285679",
     "status": "completed"
    },
    "tags": []
   },
   "outputs": [],
   "source": [
    "def train_fn(train_loader, model, criterion, optimizer):\n",
    "    \n",
    "    losses = []\n",
    "    model.train()\n",
    "\n",
    "    for (img, age, _, gender, size) in tqdm(train_loader, total = len(train_loader)):\n",
    "        \n",
    "        img = img.to(DEVICE, dtype = torch.float)\n",
    "        age = age.to(DEVICE, dtype = torch.float)\n",
    "        gender = gender.to(DEVICE, dtype = torch.float)\n",
    "        size = size.to(DEVICE, dtype = torch.float)\n",
    "        \n",
    "        age = age[:, None ]\n",
    "        gender = gender[:, None]\n",
    "        size = size[:, None]\n",
    "        \n",
    "        age_pred = model(img, gender, size)\n",
    "        loss = criterion(age_pred, age)\n",
    "\n",
    "        optimizer.zero_grad()       \n",
    "        loss.backward()               \n",
    "        optimizer.step()              \n",
    "\n",
    "        losses.append(loss.item())\n",
    "        \n",
    "    return np.mean(losses)"
   ]
  },
  {
   "cell_type": "markdown",
   "id": "1bc73b28",
   "metadata": {
    "papermill": {
     "duration": 0.005257,
     "end_time": "2022-11-13T07:08:18.314299",
     "exception": false,
     "start_time": "2022-11-13T07:08:18.309042",
     "status": "completed"
    },
    "tags": []
   },
   "source": [
    "## VALIDATION FUNCTION"
   ]
  },
  {
   "cell_type": "code",
   "execution_count": 10,
   "id": "a56300dd",
   "metadata": {
    "execution": {
     "iopub.execute_input": "2022-11-13T07:08:18.327437Z",
     "iopub.status.busy": "2022-11-13T07:08:18.327101Z",
     "iopub.status.idle": "2022-11-13T07:08:18.334561Z",
     "shell.execute_reply": "2022-11-13T07:08:18.333506Z"
    },
    "papermill": {
     "duration": 0.015869,
     "end_time": "2022-11-13T07:08:18.336368",
     "exception": false,
     "start_time": "2022-11-13T07:08:18.320499",
     "status": "completed"
    },
    "tags": []
   },
   "outputs": [],
   "source": [
    "def valid_fn(val_loader, model, criterion):\n",
    "    \n",
    "    losses = []\n",
    "    model.eval()\n",
    "\n",
    "    for (img, age, _, gender, size) in tqdm(val_loader, total = len(val_loader)):\n",
    "        img = img.to(DEVICE, dtype = torch.float)\n",
    "        age = age.to(DEVICE, dtype = torch.float)\n",
    "        gender = gender.to(DEVICE, dtype = torch.float)\n",
    "        size = size.to(DEVICE, dtype = torch.float)\n",
    "        \n",
    "        age = age[:, None ]\n",
    "        gender = gender[:, None]\n",
    "        size = size[:, None]\n",
    "        \n",
    "        with torch.no_grad():\n",
    "            age_pred = model(img, gender, size)\n",
    "            loss = criterion(age_pred, age)\n",
    "        \n",
    "        losses.append(loss.item())\n",
    "        \n",
    "    return np.mean(losses)"
   ]
  },
  {
   "cell_type": "markdown",
   "id": "8df31397",
   "metadata": {
    "papermill": {
     "duration": 0.005401,
     "end_time": "2022-11-13T07:08:18.347521",
     "exception": false,
     "start_time": "2022-11-13T07:08:18.342120",
     "status": "completed"
    },
    "tags": []
   },
   "source": [
    "## TRAINING OUR MODEL"
   ]
  },
  {
   "cell_type": "code",
   "execution_count": 11,
   "id": "a91afe0e",
   "metadata": {
    "execution": {
     "iopub.execute_input": "2022-11-13T07:08:18.361143Z",
     "iopub.status.busy": "2022-11-13T07:08:18.360205Z",
     "iopub.status.idle": "2022-11-13T08:45:36.282581Z",
     "shell.execute_reply": "2022-11-13T08:45:36.281330Z"
    },
    "papermill": {
     "duration": 5837.931553,
     "end_time": "2022-11-13T08:45:36.284876",
     "exception": false,
     "start_time": "2022-11-13T07:08:18.353323",
     "status": "completed"
    },
    "tags": []
   },
   "outputs": [
    {
     "name": "stdout",
     "output_type": "stream",
     "text": [
      "----- Epoch 1 -----\n"
     ]
    },
    {
     "name": "stderr",
     "output_type": "stream",
     "text": [
      "100%|██████████| 1660/1660 [09:18<00:00,  2.97it/s]\n",
      "100%|██████████| 185/185 [00:20<00:00,  9.14it/s]\n"
     ]
    },
    {
     "name": "stdout",
     "output_type": "stream",
     "text": [
      "Epoch 1 - Train Loss 140.2120 - Val Loss 97.0502\n",
      "\n",
      "----- Epoch 2 -----\n"
     ]
    },
    {
     "name": "stderr",
     "output_type": "stream",
     "text": [
      "100%|██████████| 1660/1660 [09:22<00:00,  2.95it/s]\n",
      "100%|██████████| 185/185 [00:18<00:00, 10.06it/s]\n"
     ]
    },
    {
     "name": "stdout",
     "output_type": "stream",
     "text": [
      "Epoch 2 - Train Loss 89.1122 - Val Loss 81.6219\n",
      "\n",
      "----- Epoch 3 -----\n"
     ]
    },
    {
     "name": "stderr",
     "output_type": "stream",
     "text": [
      "100%|██████████| 1660/1660 [09:22<00:00,  2.95it/s]\n",
      "100%|██████████| 185/185 [00:19<00:00,  9.73it/s]\n"
     ]
    },
    {
     "name": "stdout",
     "output_type": "stream",
     "text": [
      "Epoch 3 - Train Loss 75.2814 - Val Loss 80.0394\n",
      "\n",
      "----- Epoch 4 -----\n"
     ]
    },
    {
     "name": "stderr",
     "output_type": "stream",
     "text": [
      "100%|██████████| 1660/1660 [09:25<00:00,  2.93it/s]\n",
      "100%|██████████| 185/185 [00:18<00:00, 10.10it/s]\n"
     ]
    },
    {
     "name": "stdout",
     "output_type": "stream",
     "text": [
      "Epoch 4 - Train Loss 67.3013 - Val Loss 75.4322\n",
      "\n",
      "----- Epoch 5 -----\n"
     ]
    },
    {
     "name": "stderr",
     "output_type": "stream",
     "text": [
      "100%|██████████| 1660/1660 [09:29<00:00,  2.91it/s]\n",
      "100%|██████████| 185/185 [00:18<00:00,  9.93it/s]\n"
     ]
    },
    {
     "name": "stdout",
     "output_type": "stream",
     "text": [
      "Epoch 5 - Train Loss 60.9598 - Val Loss 67.4576\n",
      "\n",
      "----- Epoch 6 -----\n"
     ]
    },
    {
     "name": "stderr",
     "output_type": "stream",
     "text": [
      "100%|██████████| 1660/1660 [09:28<00:00,  2.92it/s]\n",
      "100%|██████████| 185/185 [00:19<00:00,  9.64it/s]\n"
     ]
    },
    {
     "name": "stdout",
     "output_type": "stream",
     "text": [
      "Epoch 6 - Train Loss 56.2409 - Val Loss 68.1414\n",
      "\n",
      "----- Epoch 7 -----\n"
     ]
    },
    {
     "name": "stderr",
     "output_type": "stream",
     "text": [
      "100%|██████████| 1660/1660 [09:25<00:00,  2.94it/s]\n",
      "100%|██████████| 185/185 [00:18<00:00, 10.26it/s]\n"
     ]
    },
    {
     "name": "stdout",
     "output_type": "stream",
     "text": [
      "Epoch 7 - Train Loss 50.3942 - Val Loss 63.8512\n",
      "\n",
      "----- Epoch 8 -----\n"
     ]
    },
    {
     "name": "stderr",
     "output_type": "stream",
     "text": [
      "100%|██████████| 1660/1660 [09:24<00:00,  2.94it/s]\n",
      "100%|██████████| 185/185 [00:18<00:00,  9.76it/s]\n"
     ]
    },
    {
     "name": "stdout",
     "output_type": "stream",
     "text": [
      "Epoch 8 - Train Loss 45.9384 - Val Loss 85.0016\n",
      "\n",
      "----- Epoch 9 -----\n"
     ]
    },
    {
     "name": "stderr",
     "output_type": "stream",
     "text": [
      "100%|██████████| 1660/1660 [09:24<00:00,  2.94it/s]\n",
      "100%|██████████| 185/185 [00:18<00:00,  9.87it/s]\n"
     ]
    },
    {
     "name": "stdout",
     "output_type": "stream",
     "text": [
      "Epoch 9 - Train Loss 42.4884 - Val Loss 65.2510\n",
      "\n",
      "----- Epoch 10 -----\n"
     ]
    },
    {
     "name": "stderr",
     "output_type": "stream",
     "text": [
      "100%|██████████| 1660/1660 [09:26<00:00,  2.93it/s]\n",
      "100%|██████████| 185/185 [00:18<00:00, 10.18it/s]"
     ]
    },
    {
     "name": "stdout",
     "output_type": "stream",
     "text": [
      "Epoch 10 - Train Loss 39.2166 - Val Loss 68.8680\n",
      "\n"
     ]
    },
    {
     "name": "stderr",
     "output_type": "stream",
     "text": [
      "\n"
     ]
    }
   ],
   "source": [
    "train_losses = []\n",
    "valid_losses = []\n",
    "\n",
    "best_dict = None\n",
    "best_loss = np.inf\n",
    "\n",
    "for ep in range(EPOCHS):\n",
    "    print('-'*5 + f\" Epoch {ep+1} \" + '-'*5)\n",
    "    \n",
    "    tr_loss = train_fn(train_loader, model, criterion, optimizer)\n",
    "    val_loss = valid_fn(valid_loader, model, criterion)\n",
    "\n",
    "    if val_loss < best_loss:\n",
    "        best_loss = val_loss\n",
    "        torch.save(model.state_dict(), 'best_age_model.pt')\n",
    "\n",
    "    train_losses.append(tr_loss)\n",
    "    valid_losses.append(val_loss)\n",
    "    \n",
    "    print(f\"Epoch {ep + 1} - Train Loss {tr_loss:.4f} - Val Loss {val_loss:.4f}\\n\")"
   ]
  },
  {
   "cell_type": "markdown",
   "id": "6c75dc55",
   "metadata": {
    "papermill": {
     "duration": 0.973962,
     "end_time": "2022-11-13T08:45:38.333350",
     "exception": false,
     "start_time": "2022-11-13T08:45:37.359388",
     "status": "completed"
    },
    "tags": []
   },
   "source": [
    "## TRAINING AND VALIDATION LOSS CURVE"
   ]
  },
  {
   "cell_type": "code",
   "execution_count": 12,
   "id": "ed43b9dd",
   "metadata": {
    "execution": {
     "iopub.execute_input": "2022-11-13T08:45:40.251547Z",
     "iopub.status.busy": "2022-11-13T08:45:40.251153Z",
     "iopub.status.idle": "2022-11-13T08:45:40.583806Z",
     "shell.execute_reply": "2022-11-13T08:45:40.582865Z"
    },
    "papermill": {
     "duration": 1.229042,
     "end_time": "2022-11-13T08:45:40.586126",
     "exception": false,
     "start_time": "2022-11-13T08:45:39.357084",
     "status": "completed"
    },
    "tags": []
   },
   "outputs": [
    {
     "data": {
      "text/plain": [
       "[<matplotlib.lines.Line2D at 0x7f42c30e5f10>]"
      ]
     },
     "execution_count": 12,
     "metadata": {},
     "output_type": "execute_result"
    },
    {
     "data": {
      "image/png": "[encoded data removed]",
      "text/plain": [
       "<Figure size 864x360 with 2 Axes>"
      ]
     },
     "metadata": {
      "needs_background": "light"
     },
     "output_type": "display_data"
    }
   ],
   "source": [
    "fig = plt.figure(figsize = (12, 5))\n",
    "fig.add_subplot(1,2,1)\n",
    "plt.plot(train_losses)\n",
    "fig.add_subplot(1,2,2)\n",
    "plt.plot(valid_losses)"
   ]
  },
  {
   "cell_type": "code",
   "execution_count": 13,
   "id": "384659dd",
   "metadata": {
    "execution": {
     "iopub.execute_input": "2022-11-13T08:45:42.464847Z",
     "iopub.status.busy": "2022-11-13T08:45:42.463851Z",
     "iopub.status.idle": "2022-11-13T08:45:42.720026Z",
     "shell.execute_reply": "2022-11-13T08:45:42.719017Z"
    },
    "papermill": {
     "duration": 1.159625,
     "end_time": "2022-11-13T08:45:42.722100",
     "exception": false,
     "start_time": "2022-11-13T08:45:41.562475",
     "status": "completed"
    },
    "tags": []
   },
   "outputs": [
    {
     "data": {
      "text/plain": [
       "<All keys matched successfully>"
      ]
     },
     "execution_count": 13,
     "metadata": {},
     "output_type": "execute_result"
    }
   ],
   "source": [
    "model.load_state_dict(torch.load('./best_age_model.pt'))"
   ]
  },
  {
   "cell_type": "markdown",
   "id": "967cbe03",
   "metadata": {
    "papermill": {
     "duration": 0.903265,
     "end_time": "2022-11-13T08:45:44.605464",
     "exception": false,
     "start_time": "2022-11-13T08:45:43.702199",
     "status": "completed"
    },
    "tags": []
   },
   "source": [
    "## DATA LOADER FOR TESTING DATA"
   ]
  },
  {
   "cell_type": "code",
   "execution_count": 14,
   "id": "4283e2d5",
   "metadata": {
    "execution": {
     "iopub.execute_input": "2022-11-13T08:45:46.474944Z",
     "iopub.status.busy": "2022-11-13T08:45:46.474573Z",
     "iopub.status.idle": "2022-11-13T08:45:46.485580Z",
     "shell.execute_reply": "2022-11-13T08:45:46.484942Z"
    },
    "papermill": {
     "duration": 0.918781,
     "end_time": "2022-11-13T08:45:46.487438",
     "exception": false,
     "start_time": "2022-11-13T08:45:45.568657",
     "status": "completed"
    },
    "tags": []
   },
   "outputs": [],
   "source": [
    "class TestLoader(Dataset):\n",
    "    def __init__(self, train = True):\n",
    "        super().__init__()\n",
    "        \n",
    "        x = sorted(os.listdir('../input/overnight-hackathon/Test_Image/Test_Image'))\n",
    "        y = []\n",
    "        for i in range(len(x)):\n",
    "            y.append(x[i].split('_'))\n",
    "            y[i][3] = y[i][3].split('.')[0]\n",
    "        \n",
    "        self.image_path = []\n",
    "        self.ind = []\n",
    "        self.size = []\n",
    "        self.gender = []\n",
    "                   \n",
    "        for i in range(len(x)):\n",
    "            \n",
    "            self.image_path.append('../input/overnight-hackathon/Test_Image/Test_Image/' + x[i])\n",
    "            self.ind.append(int(y[i][1]))\n",
    "            self.size.append(1 if y[i][2] == 'FI' else 0)\n",
    "            self.gender.append(1 if y[i][3] == 'M' else 0)\n",
    "                       \n",
    "        self.transform = A.Compose([\n",
    "            A.Resize(256, 256),\n",
    "        ])\n",
    "                       \n",
    "    def __getitem__(self, idx):\n",
    "        img = Image.open(self.image_path[idx])\n",
    "        ind = self.ind[idx]\n",
    "        gender = self.gender[idx]\n",
    "        size = self.size[idx]\n",
    "                   \n",
    "        img = np.array(img)            \n",
    "        img = self.transform(image = img)['image']             \n",
    "        img = (np.transpose(img, (2, 0, 1))) / 255              \n",
    "        img = torch.tensor(img)\n",
    "                \n",
    "        return img, ind, gender, size\n",
    "    \n",
    "    def __len__(self):\n",
    "        return len(self.image_path)"
   ]
  },
  {
   "cell_type": "code",
   "execution_count": 15,
   "id": "3bbdb951",
   "metadata": {
    "execution": {
     "iopub.execute_input": "2022-11-13T08:45:49.248726Z",
     "iopub.status.busy": "2022-11-13T08:45:49.248351Z",
     "iopub.status.idle": "2022-11-13T08:47:13.029843Z",
     "shell.execute_reply": "2022-11-13T08:47:13.028163Z"
    },
    "papermill": {
     "duration": 84.822312,
     "end_time": "2022-11-13T08:47:13.031906",
     "exception": false,
     "start_time": "2022-11-13T08:45:48.209594",
     "status": "completed"
    },
    "tags": []
   },
   "outputs": [
    {
     "name": "stderr",
     "output_type": "stream",
     "text": [
      "100%|██████████| 791/791 [01:23<00:00,  9.47it/s]\n"
     ]
    }
   ],
   "source": [
    "test_dataset = TestLoader()\n",
    "test_loader = DataLoader(test_dataset, batch_size = 16, shuffle = False, num_workers = 2)\n",
    "model.eval()\n",
    "preds = {\"img_file\":[], \"age\":[]}\n",
    "bar = tqdm(enumerate(test_loader), total=len(test_loader))\n",
    "\n",
    "with torch.no_grad():\n",
    "    for idx, (img, _, gender, size) in bar:\n",
    "        img = img.to(DEVICE, dtype = torch.float)\n",
    "        gender = gender.to(DEVICE, dtype = torch.float)\n",
    "        size = size.to(DEVICE, dtype = torch.float)\n",
    "        \n",
    "        gender = gender[:, None]\n",
    "        size = size[:, None]\n",
    "        \n",
    "        age_pred = model(img, gender, size)\n",
    "        preds['age'].append(age_pred.detach().cpu().numpy())"
   ]
  },
  {
   "cell_type": "markdown",
   "id": "509f3015",
   "metadata": {
    "papermill": {
     "duration": 0.95174,
     "end_time": "2022-11-13T08:47:14.970707",
     "exception": false,
     "start_time": "2022-11-13T08:47:14.018967",
     "status": "completed"
    },
    "tags": []
   },
   "source": [
    "#### MAKING CSV FOR FINAL SUBMISSION"
   ]
  },
  {
   "cell_type": "code",
   "execution_count": 16,
   "id": "80cacac7",
   "metadata": {
    "execution": {
     "iopub.execute_input": "2022-11-13T08:47:17.064607Z",
     "iopub.status.busy": "2022-11-13T08:47:17.064229Z",
     "iopub.status.idle": "2022-11-13T08:47:17.078014Z",
     "shell.execute_reply": "2022-11-13T08:47:17.077133Z"
    },
    "papermill": {
     "duration": 0.939046,
     "end_time": "2022-11-13T08:47:17.080059",
     "exception": false,
     "start_time": "2022-11-13T08:47:16.141013",
     "status": "completed"
    },
    "tags": []
   },
   "outputs": [],
   "source": [
    "preds['age'] = np.concatenate(preds['age'])[:,0]\n",
    "preds['img_file'] = sorted(os.listdir('../input/overnight-hackathon/Test_Image/Test_Image'))"
   ]
  },
  {
   "cell_type": "code",
   "execution_count": 17,
   "id": "9e58f3ec",
   "metadata": {
    "execution": {
     "iopub.execute_input": "2022-11-13T08:47:19.053866Z",
     "iopub.status.busy": "2022-11-13T08:47:19.053476Z",
     "iopub.status.idle": "2022-11-13T08:47:19.085557Z",
     "shell.execute_reply": "2022-11-13T08:47:19.084284Z"
    },
    "papermill": {
     "duration": 1.031385,
     "end_time": "2022-11-13T08:47:19.088296",
     "exception": false,
     "start_time": "2022-11-13T08:47:18.056911",
     "status": "completed"
    },
    "tags": []
   },
   "outputs": [
    {
     "data": {
      "text/html": [
       "<div>\n",
       "<style scoped>\n",
       "    .dataframe tbody tr th:only-of-type {\n",
       "        vertical-align: middle;\n",
       "    }\n",
       "\n",
       "    .dataframe tbody tr th {\n",
       "        vertical-align: top;\n",
       "    }\n",
       "\n",
       "    .dataframe thead th {\n",
       "        text-align: right;\n",
       "    }\n",
       "</style>\n",
       "<table border=\"1\" class=\"dataframe\">\n",
       "  <thead>\n",
       "    <tr style=\"text-align: right;\">\n",
       "      <th></th>\n",
       "      <th>img_file</th>\n",
       "      <th>age</th>\n",
       "    </tr>\n",
       "  </thead>\n",
       "  <tbody>\n",
       "    <tr>\n",
       "      <th>0</th>\n",
       "      <td>IMG_10000_HI_M.jpg</td>\n",
       "      <td>31.682896</td>\n",
       "    </tr>\n",
       "    <tr>\n",
       "      <th>1</th>\n",
       "      <td>IMG_10001_FI_F.jpg</td>\n",
       "      <td>33.632484</td>\n",
       "    </tr>\n",
       "    <tr>\n",
       "      <th>2</th>\n",
       "      <td>IMG_10002_FI_F.jpg</td>\n",
       "      <td>31.629808</td>\n",
       "    </tr>\n",
       "    <tr>\n",
       "      <th>3</th>\n",
       "      <td>IMG_10003_FI_F.jpg</td>\n",
       "      <td>33.424835</td>\n",
       "    </tr>\n",
       "    <tr>\n",
       "      <th>4</th>\n",
       "      <td>IMG_10004_FI_M.jpeg</td>\n",
       "      <td>30.311235</td>\n",
       "    </tr>\n",
       "  </tbody>\n",
       "</table>\n",
       "</div>"
      ],
      "text/plain": [
       "              img_file        age\n",
       "0   IMG_10000_HI_M.jpg  31.682896\n",
       "1   IMG_10001_FI_F.jpg  33.632484\n",
       "2   IMG_10002_FI_F.jpg  31.629808\n",
       "3   IMG_10003_FI_F.jpg  33.424835\n",
       "4  IMG_10004_FI_M.jpeg  30.311235"
      ]
     },
     "execution_count": 17,
     "metadata": {},
     "output_type": "execute_result"
    }
   ],
   "source": [
    "sample = pd.DataFrame(preds)\n",
    "sample.head()"
   ]
  },
  {
   "cell_type": "code",
   "execution_count": 18,
   "id": "6ed86f5e",
   "metadata": {
    "execution": {
     "iopub.execute_input": "2022-11-13T08:47:20.995845Z",
     "iopub.status.busy": "2022-11-13T08:47:20.995474Z",
     "iopub.status.idle": "2022-11-13T08:47:21.025479Z",
     "shell.execute_reply": "2022-11-13T08:47:21.024459Z"
    },
    "papermill": {
     "duration": 1.011706,
     "end_time": "2022-11-13T08:47:21.028002",
     "exception": false,
     "start_time": "2022-11-13T08:47:20.016296",
     "status": "completed"
    },
    "tags": []
   },
   "outputs": [],
   "source": [
    "sample.to_csv(\"submission.csv\", index = False)"
   ]
  }
 ],
 "metadata": {
  "kernelspec": {
   "display_name": "Python 3",
   "language": "python",
   "name": "python3"
  },
  "language_info": {
   "codemirror_mode": {
    "name": "ipython",
    "version": 3
   },
   "file_extension": ".py",
   "mimetype": "text/x-python",
   "name": "python",
   "nbconvert_exporter": "python",
   "pygments_lexer": "ipython3",
   "version": "3.7.12"
  },
  "papermill": {
   "default_parameters": {},
   "duration": 5979.933895,
   "end_time": "2022-11-13T08:47:24.956649",
   "environment_variables": {},
   "exception": null,
   "input_path": "__notebook__.ipynb",
   "output_path": "__notebook__.ipynb",
   "parameters": {},
   "start_time": "2022-11-13T07:07:45.022754",
   "version": "2.3.4"
  }
 },
 "nbformat": 4,
 "nbformat_minor": 5
}
